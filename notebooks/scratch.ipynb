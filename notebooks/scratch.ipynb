{
 "cells": [
  {
   "cell_type": "code",
   "execution_count": null,
   "id": "96f865da",
   "metadata": {},
   "outputs": [],
   "source": [
    "%load_ext autoreload\n",
    "%autoreload 2\n",
    "%matplotlib inline"
   ]
  },
  {
   "cell_type": "code",
   "execution_count": null,
   "id": "cbca6eea",
   "metadata": {},
   "outputs": [],
   "source": [
    "import os\n",
    "import json\n",
    "\n",
    "import numpy as np\n",
    "import ffmpeg\n",
    "import whisper\n",
    "\n",
    "from matplotlib import pyplot as plt\n",
    "import matplotlib as mpl"
   ]
  },
  {
   "cell_type": "code",
   "execution_count": null,
   "id": "ea3f74af",
   "metadata": {},
   "outputs": [],
   "source": [
    "model = whisper.load_model(\"base\")"
   ]
  },
  {
   "cell_type": "code",
   "execution_count": null,
   "id": "2080ddde",
   "metadata": {},
   "outputs": [],
   "source": [
    "HOME_DIR = os.path.expanduser('~')\n",
    "COBRA_DIR = os.path.join(HOME_DIR, 'cobra')\n",
    "DATA_DIR = os.path.join(COBRA_DIR, 'data')\n",
    "if not os.path.exists(DATA_DIR):\n",
    "  os.makedirs(DATA_DIR)"
   ]
  },
  {
   "cell_type": "code",
   "execution_count": null,
   "id": "6326dcc8",
   "metadata": {},
   "outputs": [],
   "source": [
    "audio_path = os.path.join(HOME_DIR, 'Downloads', 'fireside.mp3')\n",
    "transcript_path = os.path.join(DATA_DIR, 'fireside.json')\n",
    "output_path = os.path.join(DATA_DIR, 'fireside_fast.mp3')"
   ]
  },
  {
   "cell_type": "code",
   "execution_count": null,
   "id": "28fa2126",
   "metadata": {},
   "outputs": [],
   "source": [
    "with open(transcript_path, 'r') as f:\n",
    "  result = json.load(f)"
   ]
  },
  {
   "cell_type": "code",
   "execution_count": null,
   "id": "38904798",
   "metadata": {},
   "outputs": [],
   "source": [
    "result = model.transcribe(audio_path)"
   ]
  },
  {
   "cell_type": "code",
   "execution_count": null,
   "id": "f06ad3ba",
   "metadata": {},
   "outputs": [],
   "source": [
    "with open(transcript_path, 'w') as f:\n",
    "  json.dump(result, f)"
   ]
  },
  {
   "cell_type": "code",
   "execution_count": null,
   "id": "edcb7e51",
   "metadata": {
    "scrolled": true
   },
   "outputs": [],
   "source": [
    "segments = result['segments']\n",
    "segments"
   ]
  },
  {
   "cell_type": "code",
   "execution_count": null,
   "id": "c1055b2d",
   "metadata": {},
   "outputs": [],
   "source": [
    "sum(len(s['tokens']) for s in result['segments'])"
   ]
  },
  {
   "cell_type": "code",
   "execution_count": null,
   "id": "5a815a3d",
   "metadata": {},
   "outputs": [],
   "source": [
    "def compute_speedups(segments):\n",
    "  speedups = [1] * len(segments) # DEBUG\n",
    "  return speedups"
   ]
  },
  {
   "cell_type": "code",
   "execution_count": null,
   "id": "184a5f2a",
   "metadata": {},
   "outputs": [],
   "source": [
    "in_file = ffmpeg.input(audio_path)"
   ]
  },
  {
   "cell_type": "code",
   "execution_count": null,
   "id": "46f956f0",
   "metadata": {},
   "outputs": [],
   "source": [
    "segs = []\n",
    "for data, speedup in zip(segments, speedups):\n",
    "  seg = in_file.filter('atrim', start=data['start'], end=data['end']).filter('atempo', speedup)\n",
    "  segs.append(seg)"
   ]
  },
  {
   "cell_type": "code",
   "execution_count": null,
   "id": "31114706",
   "metadata": {},
   "outputs": [],
   "source": [
    "cat = ffmpeg.concat(*segs, v=0, a=1)"
   ]
  },
  {
   "cell_type": "code",
   "execution_count": null,
   "id": "833f57a3",
   "metadata": {},
   "outputs": [],
   "source": [
    "cat.output(output_path).run()"
   ]
  },
  {
   "cell_type": "code",
   "execution_count": null,
   "id": "bc12610c",
   "metadata": {},
   "outputs": [],
   "source": []
  },
  {
   "cell_type": "code",
   "execution_count": null,
   "id": "9eff7f7f",
   "metadata": {},
   "outputs": [],
   "source": [
    "from transformers import AutoModelForSeq2SeqLM, AutoTokenizer\n",
    "import torch\n",
    "from queue import Queue"
   ]
  },
  {
   "cell_type": "code",
   "execution_count": null,
   "id": "d0482018",
   "metadata": {},
   "outputs": [],
   "source": [
    "model = AutoModelForSeq2SeqLM.from_pretrained(\"google/flan-t5-small\")\n",
    "tokenizer = AutoTokenizer.from_pretrained(\"google/flan-t5-small\")\n",
    "device = 'cpu'"
   ]
  },
  {
   "cell_type": "code",
   "execution_count": null,
   "id": "2fdbf75a",
   "metadata": {},
   "outputs": [],
   "source": [
    "seg_encodings = [tokenizer(seg['text'], return_tensors='pt') for seg in segments]"
   ]
  },
  {
   "cell_type": "code",
   "execution_count": null,
   "id": "7ae8311c",
   "metadata": {
    "scrolled": true
   },
   "outputs": [],
   "source": [
    "n_prev_segs = 10\n",
    "q = Queue(maxsize=n_prev_segs)\n",
    "seg_nlls = []\n",
    "for i, encodings in enumerate(seg_encodings):\n",
    "  input_ids = encodings.input_ids.to('cpu')\n",
    "  ctxt_ids = torch.cat(list(q.queue) + [input_ids], axis=1)\n",
    "  target_ids = ctxt_ids.clone()\n",
    "  n = input_ids.shape[1]\n",
    "  target_ids[:, :-n] = -100\n",
    "  avg_nll = model(ctxt_ids, labels=target_ids).loss.detach().numpy()\n",
    "  nll = avg_nll * n\n",
    "  print(nll, i, len(seg_encodings))\n",
    "  seg_nlls.append(nll)\n",
    "  \n",
    "  if q.full():\n",
    "    q.get()\n",
    "  q.put(input_ids)\n",
    "seg_nlls = np.array(seg_nlls) / np.log(2)"
   ]
  },
  {
   "cell_type": "code",
   "execution_count": null,
   "id": "b8869e28",
   "metadata": {},
   "outputs": [],
   "source": [
    "seg_durations = [seg['end'] - seg['start'] for seg in segments]"
   ]
  },
  {
   "cell_type": "code",
   "execution_count": null,
   "id": "4dc75d39",
   "metadata": {},
   "outputs": [],
   "source": [
    "info_densities = seg_nlls / seg_durations"
   ]
  },
  {
   "cell_type": "code",
   "execution_count": null,
   "id": "8cfc2b53",
   "metadata": {},
   "outputs": [],
   "source": [
    "times = [seg['start'] for seg in segments]"
   ]
  },
  {
   "cell_type": "code",
   "execution_count": null,
   "id": "7ca73296",
   "metadata": {},
   "outputs": [],
   "source": [
    "plt.xlabel('Time (seconds)')\n",
    "plt.ylabel('Information density (bits per second)')\n",
    "plt.plot(times, info_densities)\n",
    "plt.show()"
   ]
  },
  {
   "cell_type": "code",
   "execution_count": null,
   "id": "63115b82",
   "metadata": {},
   "outputs": [],
   "source": []
  }
 ],
 "metadata": {
  "kernelspec": {
   "display_name": "Python 3 (ipykernel)",
   "language": "python",
   "name": "python3"
  },
  "language_info": {
   "codemirror_mode": {
    "name": "ipython",
    "version": 3
   },
   "file_extension": ".py",
   "mimetype": "text/x-python",
   "name": "python",
   "nbconvert_exporter": "python",
   "pygments_lexer": "ipython3",
   "version": "3.9.9"
  }
 },
 "nbformat": 4,
 "nbformat_minor": 5
}
