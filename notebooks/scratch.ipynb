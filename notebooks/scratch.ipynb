{
 "cells": [
  {
   "cell_type": "code",
   "execution_count": null,
   "id": "6431dd52",
   "metadata": {},
   "outputs": [],
   "source": [
    "import os\n",
    "import json\n",
    "\n",
    "import ffmpeg\n",
    "import whisper"
   ]
  },
  {
   "cell_type": "code",
   "execution_count": null,
   "id": "211ee933",
   "metadata": {},
   "outputs": [],
   "source": [
    "model = whisper.load_model(\"base\")"
   ]
  },
  {
   "cell_type": "code",
   "execution_count": null,
   "id": "c7145292",
   "metadata": {},
   "outputs": [],
   "source": [
    "HOME_DIR = os.path.expanduser('~')\n",
    "COBRA_DIR = os.path.join(HOME_DIR, 'cobra')\n",
    "DATA_DIR = os.path.join(COBRA_DIR, 'data')\n",
    "if not os.path.exists(DATA_DIR):\n",
    "  os.makedirs(DATA_DIR)"
   ]
  },
  {
   "cell_type": "code",
   "execution_count": null,
   "id": "6470833c",
   "metadata": {},
   "outputs": [],
   "source": [
    "audio_path = os.path.join(HOME_DIR, 'Downloads', 'fireside.mp3')\n",
    "transcript_path = os.path.join(DATA_DIR, 'fireside.json')\n",
    "output_path = os.path.join(DATA_DIR, 'fireside_fast.mp3')"
   ]
  },
  {
   "cell_type": "code",
   "execution_count": null,
   "id": "209df8c0",
   "metadata": {},
   "outputs": [],
   "source": [
    "result = model.transcribe(audio_path)"
   ]
  },
  {
   "cell_type": "code",
   "execution_count": null,
   "id": "4533e0dd",
   "metadata": {},
   "outputs": [],
   "source": [
    "with open(transcript_path, 'w') as f:\n",
    "  json.dump(result, f)"
   ]
  },
  {
   "cell_type": "code",
   "execution_count": null,
   "id": "be04d50b",
   "metadata": {
    "scrolled": true
   },
   "outputs": [],
   "source": [
    "result['segments']"
   ]
  },
  {
   "cell_type": "code",
   "execution_count": null,
   "id": "2a16aafd",
   "metadata": {},
   "outputs": [],
   "source": [
    "sum(len(s['tokens']) for s in result['segments'])"
   ]
  },
  {
   "cell_type": "code",
   "execution_count": null,
   "id": "204dc572",
   "metadata": {},
   "outputs": [],
   "source": [
    "def compute_speedups(segments):\n",
    "  speedups = [1] * len(segments) # DEBUG\n",
    "  return speedups"
   ]
  },
  {
   "cell_type": "code",
   "execution_count": null,
   "id": "8c9c611a",
   "metadata": {},
   "outputs": [],
   "source": [
    "in_file = ffmpeg.input(audio_path)"
   ]
  },
  {
   "cell_type": "code",
   "execution_count": null,
   "id": "3c9deab9",
   "metadata": {},
   "outputs": [],
   "source": [
    "segs = []\n",
    "for data, speedup in zip(result['segments'], speedups):\n",
    "  seg = in_file.filter('atrim', start=data['start'], end=data['end']).filter('atempo', speedup)\n",
    "  segs.append(seg)"
   ]
  },
  {
   "cell_type": "code",
   "execution_count": null,
   "id": "a4d52ad4",
   "metadata": {},
   "outputs": [],
   "source": [
    "cat = ffmpeg.concat(*segs, v=0, a=1)"
   ]
  },
  {
   "cell_type": "code",
   "execution_count": null,
   "id": "952f9f11",
   "metadata": {},
   "outputs": [],
   "source": [
    "cat.output(output_path).run()"
   ]
  },
  {
   "cell_type": "code",
   "execution_count": null,
   "id": "832bc234",
   "metadata": {},
   "outputs": [],
   "source": []
  }
 ],
 "metadata": {
  "kernelspec": {
   "display_name": "Python 3 (ipykernel)",
   "language": "python",
   "name": "python3"
  },
  "language_info": {
   "codemirror_mode": {
    "name": "ipython",
    "version": 3
   },
   "file_extension": ".py",
   "mimetype": "text/x-python",
   "name": "python",
   "nbconvert_exporter": "python",
   "pygments_lexer": "ipython3",
   "version": "3.9.9"
  }
 },
 "nbformat": 4,
 "nbformat_minor": 5
}
