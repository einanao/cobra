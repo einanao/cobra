{
 "cells": [
  {
   "cell_type": "code",
   "execution_count": null,
   "id": "f45e25d9",
   "metadata": {},
   "outputs": [],
   "source": [
    "%load_ext autoreload\n",
    "%autoreload 2\n",
    "%matplotlib inline"
   ]
  },
  {
   "cell_type": "code",
   "execution_count": null,
   "id": "cbca6eea",
   "metadata": {},
   "outputs": [],
   "source": [
    "import os\n",
    "import json\n",
    "\n",
    "import numpy as np\n",
    "import ffmpeg\n",
    "import whisper\n",
    "\n",
    "from matplotlib import pyplot as plt\n",
    "import matplotlib as mpl"
   ]
  },
  {
   "cell_type": "code",
   "execution_count": null,
   "id": "ea3f74af",
   "metadata": {},
   "outputs": [],
   "source": [
    "whisper_model = whisper.load_model(\"base\")"
   ]
  },
  {
   "cell_type": "code",
   "execution_count": null,
   "id": "2080ddde",
   "metadata": {},
   "outputs": [],
   "source": [
    "HOME_DIR = os.path.expanduser('~')\n",
    "COBRA_DIR = os.path.join(HOME_DIR, 'cobra')\n",
    "DATA_DIR = os.path.join(COBRA_DIR, 'data')\n",
    "if not os.path.exists(DATA_DIR):\n",
    "  os.makedirs(DATA_DIR)"
   ]
  },
  {
   "cell_type": "code",
   "execution_count": null,
   "id": "6326dcc8",
   "metadata": {},
   "outputs": [],
   "source": [
    "# youtube-dl \"https://www.youtube.com/watch?v=ESDeUi8Yl-8\" --audio-format mp3 -x\n",
    "audio_path = os.path.join(HOME_DIR, 'Downloads', 'fireside.mp3')\n",
    "\n",
    "transcript_path = os.path.join(DATA_DIR, 'fireside.json')\n",
    "output_path = os.path.join(DATA_DIR, 'fireside_smooth.mp3')"
   ]
  },
  {
   "cell_type": "code",
   "execution_count": null,
   "id": "28fa2126",
   "metadata": {},
   "outputs": [],
   "source": [
    "with open(transcript_path, 'r') as f:\n",
    "  result = json.load(f)"
   ]
  },
  {
   "cell_type": "code",
   "execution_count": null,
   "id": "38904798",
   "metadata": {},
   "outputs": [],
   "source": [
    "result = whisper_model.transcribe(audio_path)"
   ]
  },
  {
   "cell_type": "code",
   "execution_count": null,
   "id": "f06ad3ba",
   "metadata": {},
   "outputs": [],
   "source": [
    "with open(transcript_path, 'w') as f:\n",
    "  json.dump(result, f)"
   ]
  },
  {
   "cell_type": "code",
   "execution_count": null,
   "id": "edcb7e51",
   "metadata": {
    "scrolled": true
   },
   "outputs": [],
   "source": [
    "segments = result['segments']\n",
    "len(segments), segments[0]"
   ]
  },
  {
   "cell_type": "code",
   "execution_count": null,
   "id": "14f3556f",
   "metadata": {},
   "outputs": [],
   "source": [
    "plt.xlabel('Duration (seconds)')\n",
    "plt.ylabel('Number of segments')\n",
    "seg_durations = [seg['end'] - seg['start'] for seg in segments]\n",
    "plt.hist(seg_durations)\n",
    "plt.show()"
   ]
  },
  {
   "cell_type": "code",
   "execution_count": null,
   "id": "5a815a3d",
   "metadata": {},
   "outputs": [],
   "source": [
    "def compute_speedups(info_densities):\n",
    "  avg_density = np.mean(info_densities)\n",
    "  speedups = avg_density / info_densities\n",
    "  return speedups"
   ]
  },
  {
   "cell_type": "code",
   "execution_count": null,
   "id": "102248f7",
   "metadata": {},
   "outputs": [],
   "source": [
    "speedups = compute_speedups(info_densities)"
   ]
  },
  {
   "cell_type": "code",
   "execution_count": null,
   "id": "184a5f2a",
   "metadata": {},
   "outputs": [],
   "source": [
    "in_file = ffmpeg.input(audio_path)"
   ]
  },
  {
   "cell_type": "code",
   "execution_count": null,
   "id": "46f956f0",
   "metadata": {},
   "outputs": [],
   "source": [
    "segs = []\n",
    "for data, speedup in zip(segments, speedups):\n",
    "  seg = in_file.filter('atrim', start=data['start'], end=data['end']).filter('atempo', speedup)\n",
    "  segs.append(seg)"
   ]
  },
  {
   "cell_type": "code",
   "execution_count": null,
   "id": "31114706",
   "metadata": {},
   "outputs": [],
   "source": [
    "cat = ffmpeg.concat(*segs, v=0, a=1)"
   ]
  },
  {
   "cell_type": "code",
   "execution_count": null,
   "id": "833f57a3",
   "metadata": {},
   "outputs": [],
   "source": [
    "cat.output(output_path).run()"
   ]
  },
  {
   "cell_type": "code",
   "execution_count": null,
   "id": "bc12610c",
   "metadata": {},
   "outputs": [],
   "source": []
  },
  {
   "cell_type": "code",
   "execution_count": null,
   "id": "9eff7f7f",
   "metadata": {},
   "outputs": [],
   "source": [
    "from transformers import AutoModelForSeq2SeqLM, AutoTokenizer\n",
    "import torch\n",
    "from queue import Queue"
   ]
  },
  {
   "cell_type": "code",
   "execution_count": null,
   "id": "d0482018",
   "metadata": {},
   "outputs": [],
   "source": [
    "llm = AutoModelForSeq2SeqLM.from_pretrained(\"google/flan-t5-small\")\n",
    "tokenizer = AutoTokenizer.from_pretrained(\"google/flan-t5-small\")\n",
    "device = 'cpu'"
   ]
  },
  {
   "cell_type": "code",
   "execution_count": null,
   "id": "3dc33ecb",
   "metadata": {},
   "outputs": [],
   "source": [
    "def compute_info_densities(segments, verbose=False):\n",
    "  seg_encodings = [tokenizer(seg['text'], return_tensors='pt') for seg in segments]\n",
    "  input_ids = [enc.input_ids.to(device) for enc in seg_encodings]\n",
    "  seg_lens = [x.shape[1] for x in input_ids]\n",
    "  cat_input_ids = torch.cat(input_ids, axis=1)\n",
    "  idx = 0\n",
    "  seg_nlls = []\n",
    "  for i, seg_len in enumerate(seg_lens):\n",
    "    idx += seg_len\n",
    "    ctxt_ids = cat_input_ids[:, :idx]\n",
    "    target_ids = ctxt_ids.clone()\n",
    "    target_ids[:, :-seg_len] = -100\n",
    "    avg_nll = llm(ctxt_ids, labels=target_ids).loss.detach().numpy()\n",
    "    nll = avg_nll * seg_len\n",
    "    seg_nlls.append(nll)\n",
    "    if verbose:\n",
    "      print(nll, avg_nll, i, len(seg_lens))\n",
    "  seg_nlls = np.array(seg_nlls) / np.log(2)\n",
    "  info_densities = seg_nlls / seg_durations\n",
    "  return info_densities"
   ]
  },
  {
   "cell_type": "code",
   "execution_count": null,
   "id": "f9bc9aff",
   "metadata": {
    "scrolled": true
   },
   "outputs": [],
   "source": [
    "info_densities = compute_info_densities(segments, verbose=True)"
   ]
  },
  {
   "cell_type": "code",
   "execution_count": null,
   "id": "c9be77bf",
   "metadata": {},
   "outputs": [],
   "source": [
    "times = np.array([seg['start'] for seg in segments])"
   ]
  },
  {
   "cell_type": "code",
   "execution_count": null,
   "id": "bf148142",
   "metadata": {},
   "outputs": [],
   "source": [
    "def smooth(xs, win=10):\n",
    "  win = min(len(xs), win)\n",
    "  psums = np.concatenate((np.zeros(1), np.cumsum(xs)))\n",
    "  rtn = (psums[win:] - psums[:-win]) / win\n",
    "  rtn[0] = xs[0]\n",
    "  return rtn"
   ]
  },
  {
   "cell_type": "code",
   "execution_count": null,
   "id": "4ab78c46",
   "metadata": {},
   "outputs": [],
   "source": [
    "win = 1\n",
    "plt.xlabel('Time (minutes)')\n",
    "plt.ylabel('Information density (bits per second)')\n",
    "plt.plot(times[win-1:]/60, smooth(info_densities, win=win))\n",
    "plt.show()"
   ]
  },
  {
   "cell_type": "code",
   "execution_count": null,
   "id": "31cf09de",
   "metadata": {},
   "outputs": [],
   "source": [
    "sorted_seg_idxes = sorted(list(range(len(segments))), key=lambda i: info_densities[i])"
   ]
  },
  {
   "cell_type": "code",
   "execution_count": null,
   "id": "4a1c83c7",
   "metadata": {
    "scrolled": true
   },
   "outputs": [],
   "source": [
    "for s in segments:\n",
    "  if s['end'] < 600:\n",
    "    print(s['text'])"
   ]
  },
  {
   "cell_type": "code",
   "execution_count": null,
   "id": "bc2c3f94",
   "metadata": {},
   "outputs": [],
   "source": [
    "[(i/len(segments), segments[i]['text']) for i in sorted_seg_idxes[:20]]"
   ]
  },
  {
   "cell_type": "code",
   "execution_count": null,
   "id": "07b49532",
   "metadata": {},
   "outputs": [],
   "source": [
    "[(i/len(segments), segments[i]['text']) for i in sorted_seg_idxes[-20:]]"
   ]
  },
  {
   "cell_type": "code",
   "execution_count": null,
   "id": "bc498aa2",
   "metadata": {
    "scrolled": false
   },
   "outputs": [],
   "source": [
    "for s in segments:\n",
    "  if 2000 < s['start'] and s['end'] < 3000:\n",
    "    print(s['text'])"
   ]
  },
  {
   "cell_type": "code",
   "execution_count": null,
   "id": "63115b82",
   "metadata": {},
   "outputs": [],
   "source": []
  }
 ],
 "metadata": {
  "kernelspec": {
   "display_name": "Python 3 (ipykernel)",
   "language": "python",
   "name": "python3"
  },
  "language_info": {
   "codemirror_mode": {
    "name": "ipython",
    "version": 3
   },
   "file_extension": ".py",
   "mimetype": "text/x-python",
   "name": "python",
   "nbconvert_exporter": "python",
   "pygments_lexer": "ipython3",
   "version": "3.9.9"
  }
 },
 "nbformat": 4,
 "nbformat_minor": 5
}
